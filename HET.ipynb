{
  "nbformat": 4,
  "nbformat_minor": 0,
  "metadata": {
    "colab": {
      "name": "HET.ipynb",
      "provenance": [],
      "authorship_tag": "ABX9TyOh+Nd+fERhuyJNWv7InVwF",
      "include_colab_link": true
    },
    "kernelspec": {
      "name": "python3",
      "display_name": "Python 3"
    },
    "language_info": {
      "name": "python"
    }
  },
  "cells": [
    {
      "cell_type": "markdown",
      "metadata": {
        "id": "view-in-github",
        "colab_type": "text"
      },
      "source": [
        "<a href=\"https://colab.research.google.com/github/ayushi-2310/Ayushi-DAML-2021-22/blob/main/HET.ipynb\" target=\"_parent\"><img src=\"https://colab.research.google.com/assets/colab-badge.svg\" alt=\"Open In Colab\"/></a>"
      ]
    },
    {
      "cell_type": "code",
      "metadata": {
        "id": "xxyVt3iOYvkH",
        "colab": {
          "base_uri": "https://localhost:8080/"
        },
        "outputId": "f606444d-6995-4c37-e3bc-ae0302f37dcf"
      },
      "source": [
        "def clean(l):\n",
        "  t=[]\n",
        "  for i in l:\n",
        "    if '-' in i:\n",
        "      i=i.split('-')\n",
        "      a= (int(i[0])+int(i[1]))/2\n",
        "      t.append(a)\n",
        "    elif i.endswith('yards'):\n",
        "      a =float((i[0:i.index('y')])*9)\n",
        "      t.append(a)\n",
        "    elif i.endswith('sq.m'):\n",
        "      a= float(i[0:i.index('s')])*10.7639\n",
        "      t.append(a)\n",
        "    elif i.endswith('cent'):\n",
        "      a= float(i[0:i.index('c')])*435.56\n",
        "      t.append(a)\n",
        "    elif i.endswith('guntha'):\n",
        "      a= float(i[0:i.index('g')])*1088.999963702 \n",
        "      t.append(a)\n",
        "    elif i.endswith('squaremetre'):\n",
        "      a= float(i[0:i.index('s')])*10.7639\n",
        "      t.append(a)\n",
        "  return t\n",
        "o=['100-110','200yards','400sq.m','50cent','38guntha','600squaremetre'  ]\n",
        "clean(o)\n",
        "\n",
        "  "
      ],
      "execution_count": null,
      "outputs": [
        {
          "output_type": "execute_result",
          "data": {
            "text/plain": [
              "[105.0,\n",
              " 2.002002002002002e+26,\n",
              " 4305.5599999999995,\n",
              " 21778.0,\n",
              " 41381.998620676,\n",
              " 6458.34]"
            ]
          },
          "metadata": {},
          "execution_count": 40
        }
      ]
    },
    {
      "cell_type": "code",
      "metadata": {
        "id": "MxJNmCdVAMwl"
      },
      "source": [
        "import numpy as np\n"
      ],
      "execution_count": 1,
      "outputs": []
    },
    {
      "cell_type": "code",
      "metadata": {
        "id": "SbdGvg9UAVoJ"
      },
      "source": [
        "myarray=np.array(\"Ayushi\")"
      ],
      "execution_count": null,
      "outputs": []
    },
    {
      "cell_type": "code",
      "metadata": {
        "colab": {
          "base_uri": "https://localhost:8080/"
        },
        "id": "dCHuS-7oAVkT",
        "outputId": "2846a97b-0069-49ae-afa6-3d83dc2a0aee"
      },
      "source": [
        "myarray"
      ],
      "execution_count": null,
      "outputs": [
        {
          "output_type": "execute_result",
          "data": {
            "text/plain": [
              "array('Ayushi', dtype='<U6')"
            ]
          },
          "metadata": {},
          "execution_count": 3
        }
      ]
    },
    {
      "cell_type": "code",
      "metadata": {
        "colab": {
          "base_uri": "https://localhost:8080/",
          "height": 35
        },
        "id": "vstun0m4AVi9",
        "outputId": "22362558-4344-459b-b6c8-889068a8fca6"
      },
      "source": [
        "np.__version__"
      ],
      "execution_count": null,
      "outputs": [
        {
          "output_type": "execute_result",
          "data": {
            "application/vnd.google.colaboratory.intrinsic+json": {
              "type": "string"
            },
            "text/plain": [
              "'1.19.5'"
            ]
          },
          "metadata": {},
          "execution_count": 5
        }
      ]
    },
    {
      "cell_type": "code",
      "metadata": {
        "id": "gORhNXDbA1tT"
      },
      "source": [
        "x=np.array(300)"
      ],
      "execution_count": null,
      "outputs": []
    },
    {
      "cell_type": "code",
      "metadata": {
        "colab": {
          "base_uri": "https://localhost:8080/"
        },
        "id": "CqQZuUlLA6QP",
        "outputId": "a2c3ab38-b259-493d-a614-1ea249db2e38"
      },
      "source": [
        "type(x)"
      ],
      "execution_count": null,
      "outputs": [
        {
          "output_type": "execute_result",
          "data": {
            "text/plain": [
              "numpy.ndarray"
            ]
          },
          "metadata": {},
          "execution_count": 7
        }
      ]
    },
    {
      "cell_type": "code",
      "metadata": {
        "colab": {
          "base_uri": "https://localhost:8080/"
        },
        "id": "lVoGEvbtA_B8",
        "outputId": "93805b56-a09a-4ae6-a275-ba9fda709a82"
      },
      "source": [
        "x"
      ],
      "execution_count": null,
      "outputs": [
        {
          "output_type": "execute_result",
          "data": {
            "text/plain": [
              "array(300)"
            ]
          },
          "metadata": {},
          "execution_count": 8
        }
      ]
    },
    {
      "cell_type": "code",
      "metadata": {
        "colab": {
          "base_uri": "https://localhost:8080/"
        },
        "id": "42pGbIZCBHr7",
        "outputId": "17ca848d-842f-4663-f0cf-98ffd48e68f3"
      },
      "source": [
        "oned=np.array([12,34,56,78,90])\n",
        "oned"
      ],
      "execution_count": null,
      "outputs": [
        {
          "output_type": "execute_result",
          "data": {
            "text/plain": [
              "array([12, 34, 56, 78, 90])"
            ]
          },
          "metadata": {},
          "execution_count": 9
        }
      ]
    },
    {
      "cell_type": "code",
      "metadata": {
        "colab": {
          "base_uri": "https://localhost:8080/"
        },
        "id": "c0uxQaFGBdwJ",
        "outputId": "429f555b-22ec-4476-ceaa-f0fc70baf0c6"
      },
      "source": [
        "type(oned)"
      ],
      "execution_count": null,
      "outputs": [
        {
          "output_type": "execute_result",
          "data": {
            "text/plain": [
              "numpy.ndarray"
            ]
          },
          "metadata": {},
          "execution_count": 10
        }
      ]
    },
    {
      "cell_type": "code",
      "metadata": {
        "colab": {
          "base_uri": "https://localhost:8080/"
        },
        "id": "Leh9bFSmBjtP",
        "outputId": "afc19c77-37f0-4d47-d538-e2901997e1a1"
      },
      "source": [
        "oned.ndim"
      ],
      "execution_count": null,
      "outputs": [
        {
          "output_type": "execute_result",
          "data": {
            "text/plain": [
              "1"
            ]
          },
          "metadata": {},
          "execution_count": 11
        }
      ]
    },
    {
      "cell_type": "code",
      "metadata": {
        "colab": {
          "base_uri": "https://localhost:8080/"
        },
        "id": "hJUeWvXNBwyM",
        "outputId": "bd86542c-7313-49f6-f29b-eb532b143e95"
      },
      "source": [
        "oned.size"
      ],
      "execution_count": null,
      "outputs": [
        {
          "output_type": "execute_result",
          "data": {
            "text/plain": [
              "5"
            ]
          },
          "metadata": {},
          "execution_count": 12
        }
      ]
    },
    {
      "cell_type": "code",
      "metadata": {
        "colab": {
          "base_uri": "https://localhost:8080/"
        },
        "id": "8VTThioJB22i",
        "outputId": "3b6779fb-eb82-4414-b7cd-105878d5fd1e"
      },
      "source": [
        "oned.shape"
      ],
      "execution_count": null,
      "outputs": [
        {
          "output_type": "execute_result",
          "data": {
            "text/plain": [
              "(5,)"
            ]
          },
          "metadata": {},
          "execution_count": 13
        }
      ]
    },
    {
      "cell_type": "code",
      "metadata": {
        "colab": {
          "base_uri": "https://localhost:8080/"
        },
        "id": "BOwUE3o9BnQF",
        "outputId": "d9803f0d-7659-4ad7-d136-5571276e93ca"
      },
      "source": [
        "twod=np.array([[1,2,3],[23,34,45],[1,1,1]])\n",
        "twod"
      ],
      "execution_count": null,
      "outputs": [
        {
          "output_type": "execute_result",
          "data": {
            "text/plain": [
              "array([[ 1,  2,  3],\n",
              "       [23, 34, 45],\n",
              "       [ 1,  1,  1]])"
            ]
          },
          "metadata": {},
          "execution_count": 15
        }
      ]
    },
    {
      "cell_type": "code",
      "metadata": {
        "colab": {
          "base_uri": "https://localhost:8080/"
        },
        "id": "wdEQLiv1CIvI",
        "outputId": "6ecc71ee-d3fa-461f-bea8-c24e841dd2a5"
      },
      "source": [
        "twod.ndim"
      ],
      "execution_count": null,
      "outputs": [
        {
          "output_type": "execute_result",
          "data": {
            "text/plain": [
              "2"
            ]
          },
          "metadata": {},
          "execution_count": 16
        }
      ]
    },
    {
      "cell_type": "code",
      "metadata": {
        "colab": {
          "base_uri": "https://localhost:8080/"
        },
        "id": "JcAiJ6edCN-n",
        "outputId": "916c82e4-a430-4a9e-e165-0db6dea3357b"
      },
      "source": [
        "twod.size"
      ],
      "execution_count": null,
      "outputs": [
        {
          "output_type": "execute_result",
          "data": {
            "text/plain": [
              "9"
            ]
          },
          "metadata": {},
          "execution_count": 17
        }
      ]
    },
    {
      "cell_type": "code",
      "metadata": {
        "colab": {
          "base_uri": "https://localhost:8080/"
        },
        "id": "H2TT1fVPCRZX",
        "outputId": "04aa1a3b-93a4-4f23-b327-e13dbc8b3e92"
      },
      "source": [
        "twod.shape"
      ],
      "execution_count": null,
      "outputs": [
        {
          "output_type": "execute_result",
          "data": {
            "text/plain": [
              "(3, 3)"
            ]
          },
          "metadata": {},
          "execution_count": 18
        }
      ]
    },
    {
      "cell_type": "markdown",
      "metadata": {
        "id": "m01GVmHYCgQ0"
      },
      "source": [
        "Creating nday array with zeros "
      ]
    },
    {
      "cell_type": "code",
      "metadata": {
        "colab": {
          "base_uri": "https://localhost:8080/"
        },
        "id": "cHf1hrXOCasB",
        "outputId": "f2a9a133-acd1-417e-dba9-76df09749320"
      },
      "source": [
        "zero=np.zeros(10)\n",
        "zero"
      ],
      "execution_count": null,
      "outputs": [
        {
          "output_type": "execute_result",
          "data": {
            "text/plain": [
              "array([0., 0., 0., 0., 0., 0., 0., 0., 0., 0.])"
            ]
          },
          "metadata": {},
          "execution_count": 21
        }
      ]
    },
    {
      "cell_type": "code",
      "metadata": {
        "colab": {
          "base_uri": "https://localhost:8080/"
        },
        "id": "uze8fPYgDiHs",
        "outputId": "8a4200a9-eedd-42df-8a54-94d0719d0b40"
      },
      "source": [
        "z=np.zeros(10,dtype=np.int8)\n",
        "z"
      ],
      "execution_count": null,
      "outputs": [
        {
          "output_type": "execute_result",
          "data": {
            "text/plain": [
              "array([0, 0, 0, 0, 0, 0, 0, 0, 0, 0], dtype=int8)"
            ]
          },
          "metadata": {},
          "execution_count": 23
        }
      ]
    },
    {
      "cell_type": "markdown",
      "metadata": {
        "id": "-JGILruTD6A3"
      },
      "source": [
        "#Create an array of 2X3 having zeros"
      ]
    },
    {
      "cell_type": "code",
      "metadata": {
        "colab": {
          "base_uri": "https://localhost:8080/"
        },
        "id": "NmL_NEuTDtCk",
        "outputId": "22d14989-27ef-4b3a-f198-0dfb2cb98c65"
      },
      "source": [
        "z=np.zeros((2,3))\n",
        "z"
      ],
      "execution_count": null,
      "outputs": [
        {
          "output_type": "execute_result",
          "data": {
            "text/plain": [
              "array([[0., 0., 0.],\n",
              "       [0., 0., 0.]])"
            ]
          },
          "metadata": {},
          "execution_count": 25
        }
      ]
    },
    {
      "cell_type": "code",
      "metadata": {
        "colab": {
          "base_uri": "https://localhost:8080/"
        },
        "id": "GvYn2fuWELOd",
        "outputId": "5abc8ff6-db3d-4276-a240-de66b17a5efc"
      },
      "source": [
        "ones=np.ones(10)\n",
        "ones"
      ],
      "execution_count": null,
      "outputs": [
        {
          "output_type": "execute_result",
          "data": {
            "text/plain": [
              "array([1., 1., 1., 1., 1., 1., 1., 1., 1., 1.])"
            ]
          },
          "metadata": {},
          "execution_count": 26
        }
      ]
    },
    {
      "cell_type": "code",
      "metadata": {
        "colab": {
          "base_uri": "https://localhost:8080/"
        },
        "id": "-G2uMPv9EQdc",
        "outputId": "aa13c584-dcdb-45ba-d18d-3e79dcd505fa"
      },
      "source": [
        "ones=np.ones((2,3,3))\n",
        "ones"
      ],
      "execution_count": null,
      "outputs": [
        {
          "output_type": "execute_result",
          "data": {
            "text/plain": [
              "array([[[1., 1., 1.],\n",
              "        [1., 1., 1.],\n",
              "        [1., 1., 1.]],\n",
              "\n",
              "       [[1., 1., 1.],\n",
              "        [1., 1., 1.],\n",
              "        [1., 1., 1.]]])"
            ]
          },
          "metadata": {},
          "execution_count": 28
        }
      ]
    },
    {
      "cell_type": "code",
      "metadata": {
        "colab": {
          "base_uri": "https://localhost:8080/"
        },
        "id": "3laLSYKGEVzx",
        "outputId": "9072b840-9b3d-49fd-8b3f-8a6240349197"
      },
      "source": [
        "ones.ndim"
      ],
      "execution_count": null,
      "outputs": [
        {
          "output_type": "execute_result",
          "data": {
            "text/plain": [
              "3"
            ]
          },
          "metadata": {},
          "execution_count": 29
        }
      ]
    },
    {
      "cell_type": "code",
      "metadata": {
        "colab": {
          "base_uri": "https://localhost:8080/"
        },
        "id": "URB0_bZXEdAs",
        "outputId": "e79b1ebf-8067-48a6-df84-926505f6d421"
      },
      "source": [
        "import sys\n",
        "l=[1,2,3,4,5,6,7,8,9]\n",
        "print(sys.getsizeof(1)*len(l))\n",
        "arr=np.array(l)\n",
        "print(arr.size*arr.itemsize)"
      ],
      "execution_count": null,
      "outputs": [
        {
          "output_type": "stream",
          "name": "stdout",
          "text": [
            "252\n",
            "72\n"
          ]
        }
      ]
    },
    {
      "cell_type": "code",
      "metadata": {
        "colab": {
          "base_uri": "https://localhost:8080/"
        },
        "id": "_Flpt-JAFjui",
        "outputId": "5675f430-8433-4e8b-e20a-1f0507a328bb"
      },
      "source": [
        "l=[1000,[12,98]]\n",
        "sys.getsizeof(l)"
      ],
      "execution_count": null,
      "outputs": [
        {
          "output_type": "execute_result",
          "data": {
            "text/plain": [
              "88"
            ]
          },
          "metadata": {},
          "execution_count": 35
        }
      ]
    },
    {
      "cell_type": "code",
      "metadata": {
        "colab": {
          "base_uri": "https://localhost:8080/"
        },
        "id": "r8Z9AkHEFokk",
        "outputId": "d0c23e48-9579-4cf8-f960-33044c60e875"
      },
      "source": [
        "x=np.random.rand(10)\n",
        "x"
      ],
      "execution_count": null,
      "outputs": [
        {
          "output_type": "execute_result",
          "data": {
            "text/plain": [
              "array([0.48822866, 0.23828584, 0.86102669, 0.85112038, 0.38778489,\n",
              "       0.58890263, 0.1164453 , 0.49027326, 0.88078268, 0.67814526])"
            ]
          },
          "metadata": {},
          "execution_count": 36
        }
      ]
    },
    {
      "cell_type": "code",
      "metadata": {
        "colab": {
          "base_uri": "https://localhost:8080/"
        },
        "id": "3VKqLT9IHuAl",
        "outputId": "2ce5ac73-8fe1-4d93-f14d-3f3cf4df1643"
      },
      "source": [
        "x=np.random.rand(3,4)\n",
        "x"
      ],
      "execution_count": null,
      "outputs": [
        {
          "output_type": "execute_result",
          "data": {
            "text/plain": [
              "array([[0.21774958, 0.80391975, 0.48959936, 0.84421498],\n",
              "       [0.17296952, 0.33921515, 0.30350327, 0.19892046],\n",
              "       [0.07534545, 0.26761169, 0.87000985, 0.05185521]])"
            ]
          },
          "metadata": {},
          "execution_count": 37
        }
      ]
    },
    {
      "cell_type": "code",
      "metadata": {
        "colab": {
          "base_uri": "https://localhost:8080/"
        },
        "id": "pmSM4aN5H2I3",
        "outputId": "e90c516b-95b6-4c1f-a365-5f265dabbd71"
      },
      "source": [
        "x=np.random.randint(5,11,size=10)\n",
        "x"
      ],
      "execution_count": null,
      "outputs": [
        {
          "output_type": "execute_result",
          "data": {
            "text/plain": [
              "array([ 6,  7,  5,  5,  5,  6,  6, 10,  8,  5])"
            ]
          },
          "metadata": {},
          "execution_count": 39
        }
      ]
    },
    {
      "cell_type": "code",
      "metadata": {
        "colab": {
          "base_uri": "https://localhost:8080/"
        },
        "id": "YLKpiIfCIPzz",
        "outputId": "29b16cbc-f7ff-4b59-a8e8-28ff2240bd84"
      },
      "source": [
        "x=np.random.randint(5,10,size=(3,2))\n",
        "x"
      ],
      "execution_count": null,
      "outputs": [
        {
          "output_type": "execute_result",
          "data": {
            "text/plain": [
              "array([[5, 7],\n",
              "       [6, 8],\n",
              "       [7, 8]])"
            ]
          },
          "metadata": {},
          "execution_count": 40
        }
      ]
    },
    {
      "cell_type": "code",
      "metadata": {
        "colab": {
          "base_uri": "https://localhost:8080/"
        },
        "id": "tTbcVXLuIuC-",
        "outputId": "c205bb11-9ca7-4aec-aa59-6d85ce6d3f52"
      },
      "source": [
        "l=[1,2,3,4,5,6,7,8]\n",
        "x=np.random.choice(l)\n",
        "x"
      ],
      "execution_count": null,
      "outputs": [
        {
          "output_type": "execute_result",
          "data": {
            "text/plain": [
              "2"
            ]
          },
          "metadata": {},
          "execution_count": 42
        }
      ]
    },
    {
      "cell_type": "code",
      "metadata": {
        "colab": {
          "base_uri": "https://localhost:8080/"
        },
        "id": "pSj8FG4_Jagn",
        "outputId": "3f02e8b7-e777-4722-b136-684cbd335a2a"
      },
      "source": [
        "l=['Mon','Tue','Wed','Thurs','Fri']\n",
        "x=np.random.choice(l,size=3)\n",
        "x"
      ],
      "execution_count": null,
      "outputs": [
        {
          "output_type": "execute_result",
          "data": {
            "text/plain": [
              "array(['Mon', 'Mon', 'Tue'], dtype='<U5')"
            ]
          },
          "metadata": {},
          "execution_count": 45
        }
      ]
    },
    {
      "cell_type": "code",
      "metadata": {
        "colab": {
          "base_uri": "https://localhost:8080/"
        },
        "id": "isGVbAqKJpje",
        "outputId": "62d54b78-aadf-45df-a811-1aa5b7599fd7"
      },
      "source": [
        "x=np.random.choice(l,size=(4,3))\n",
        "x"
      ],
      "execution_count": null,
      "outputs": [
        {
          "output_type": "execute_result",
          "data": {
            "text/plain": [
              "array([['Thurs', 'Mon', 'Fri'],\n",
              "       ['Thurs', 'Tue', 'Wed'],\n",
              "       ['Tue', 'Thurs', 'Thurs'],\n",
              "       ['Tue', 'Mon', 'Tue']], dtype='<U5')"
            ]
          },
          "metadata": {},
          "execution_count": 46
        }
      ]
    },
    {
      "cell_type": "code",
      "metadata": {
        "colab": {
          "base_uri": "https://localhost:8080/"
        },
        "id": "uHCkHba1KAy0",
        "outputId": "3f36035f-31b6-4d29-8c64-b7a300853e3e"
      },
      "source": [
        "x=np.array([10,23,45,67,89])\n",
        "x[1]"
      ],
      "execution_count": null,
      "outputs": [
        {
          "output_type": "execute_result",
          "data": {
            "text/plain": [
              "23"
            ]
          },
          "metadata": {},
          "execution_count": 48
        }
      ]
    },
    {
      "cell_type": "code",
      "metadata": {
        "colab": {
          "base_uri": "https://localhost:8080/"
        },
        "id": "yJx63OXvKrM4",
        "outputId": "bba70368-0ec2-4f17-e797-e6b1c3e91322"
      },
      "source": [
        "y=np.array([[10,23,45,67],[2,4,6,7],[3,5,7,9]])\n",
        "y[1,2]"
      ],
      "execution_count": null,
      "outputs": [
        {
          "output_type": "execute_result",
          "data": {
            "text/plain": [
              "6"
            ]
          },
          "metadata": {},
          "execution_count": 66
        }
      ]
    },
    {
      "cell_type": "code",
      "metadata": {
        "colab": {
          "base_uri": "https://localhost:8080/"
        },
        "id": "S5bXLQEzK6lg",
        "outputId": "b5088fa9-b61d-4a0e-b647-be0291323a14"
      },
      "source": [
        "x=np.array([10,23,45,67,89])\n",
        "x[1:3]\n"
      ],
      "execution_count": null,
      "outputs": [
        {
          "output_type": "execute_result",
          "data": {
            "text/plain": [
              "array([23, 45])"
            ]
          },
          "metadata": {},
          "execution_count": 52
        }
      ]
    },
    {
      "cell_type": "code",
      "metadata": {
        "colab": {
          "base_uri": "https://localhost:8080/"
        },
        "id": "2CucHIbKLUEh",
        "outputId": "da7cfe45-626d-4147-d49f-b247315743b3"
      },
      "source": [
        "x=np.array([10,23,45,67,89])\n",
        "x[3:1]"
      ],
      "execution_count": null,
      "outputs": [
        {
          "output_type": "execute_result",
          "data": {
            "text/plain": [
              "array([], dtype=int64)"
            ]
          },
          "metadata": {},
          "execution_count": 53
        }
      ]
    },
    {
      "cell_type": "code",
      "metadata": {
        "colab": {
          "base_uri": "https://localhost:8080/"
        },
        "id": "2HuIXQP0LXwh",
        "outputId": "188cd854-7459-4a92-ae40-8b15c9fb7a2e"
      },
      "source": [
        "x=np.array([[12,3,4],[2,4,6],[4,3,7],[6,7,9]])\n",
        "x[1:3]"
      ],
      "execution_count": null,
      "outputs": [
        {
          "output_type": "execute_result",
          "data": {
            "text/plain": [
              "array([[2, 4, 6],\n",
              "       [4, 3, 7]])"
            ]
          },
          "metadata": {},
          "execution_count": 59
        }
      ]
    },
    {
      "cell_type": "code",
      "metadata": {
        "colab": {
          "base_uri": "https://localhost:8080/"
        },
        "id": "I6tMob1jL8Dl",
        "outputId": "7bffda4b-4fdb-4f74-d6fe-424bcb9c084a"
      },
      "source": [
        "x[-1:]"
      ],
      "execution_count": null,
      "outputs": [
        {
          "output_type": "execute_result",
          "data": {
            "text/plain": [
              "array([[6, 7, 9]])"
            ]
          },
          "metadata": {},
          "execution_count": 60
        }
      ]
    },
    {
      "cell_type": "code",
      "metadata": {
        "colab": {
          "base_uri": "https://localhost:8080/"
        },
        "id": "wnXAjKCvMCR7",
        "outputId": "6536fc57-7539-43a0-b781-f17a74e5662b"
      },
      "source": [
        "x[:3]"
      ],
      "execution_count": null,
      "outputs": [
        {
          "output_type": "execute_result",
          "data": {
            "text/plain": [
              "array([[12,  3,  4],\n",
              "       [ 2,  4,  6],\n",
              "       [ 4,  3,  7]])"
            ]
          },
          "metadata": {},
          "execution_count": 61
        }
      ]
    },
    {
      "cell_type": "code",
      "metadata": {
        "colab": {
          "base_uri": "https://localhost:8080/"
        },
        "id": "u8EI4UBAMFTn",
        "outputId": "f62b6526-fc37-4a0d-b227-e9f55be4c2c3"
      },
      "source": [
        "x[:,1:]"
      ],
      "execution_count": null,
      "outputs": [
        {
          "output_type": "execute_result",
          "data": {
            "text/plain": [
              "array([[3, 4],\n",
              "       [4, 6],\n",
              "       [3, 7],\n",
              "       [7, 9]])"
            ]
          },
          "metadata": {},
          "execution_count": 62
        }
      ]
    },
    {
      "cell_type": "code",
      "metadata": {
        "colab": {
          "base_uri": "https://localhost:8080/"
        },
        "id": "VgKrKUTlMSEk",
        "outputId": "f8ca98dd-798c-4432-c5b3-846fe19f3aac"
      },
      "source": [
        "x[0:2,1:]"
      ],
      "execution_count": null,
      "outputs": [
        {
          "output_type": "execute_result",
          "data": {
            "text/plain": [
              "array([[3, 4],\n",
              "       [4, 6]])"
            ]
          },
          "metadata": {},
          "execution_count": 63
        }
      ]
    },
    {
      "cell_type": "code",
      "metadata": {
        "colab": {
          "base_uri": "https://localhost:8080/"
        },
        "id": "33c5r90yMWxc",
        "outputId": "1255b83e-fd26-4a24-e7ef-5e1db546109a"
      },
      "source": [
        "x=np.array([10,23,45,67,89])\n",
        "x%5==0"
      ],
      "execution_count": null,
      "outputs": [
        {
          "output_type": "execute_result",
          "data": {
            "text/plain": [
              "array([ True, False,  True, False, False])"
            ]
          },
          "metadata": {},
          "execution_count": 67
        }
      ]
    },
    {
      "cell_type": "code",
      "metadata": {
        "colab": {
          "base_uri": "https://localhost:8080/"
        },
        "id": "ySU_cw9nNvcc",
        "outputId": "e5877fb6-69ff-4d24-a4a6-88acf399ba22"
      },
      "source": [
        "x=np.array([10,23,45,67,89])\n",
        "x[x%5==0]"
      ],
      "execution_count": null,
      "outputs": [
        {
          "output_type": "execute_result",
          "data": {
            "text/plain": [
              "array([10, 45])"
            ]
          },
          "metadata": {},
          "execution_count": 68
        }
      ]
    },
    {
      "cell_type": "code",
      "metadata": {
        "colab": {
          "base_uri": "https://localhost:8080/"
        },
        "id": "lPFD5gEHN4uT",
        "outputId": "d871b59a-e746-4978-ab74-4916a9e20d81"
      },
      "source": [
        "x=np.array([[12,3,4],[2,4,6],[4,3,7],[6,7,9]])\n",
        "x[x%2==0]"
      ],
      "execution_count": null,
      "outputs": [
        {
          "output_type": "execute_result",
          "data": {
            "text/plain": [
              "array([12,  4,  2,  4,  6,  4,  6])"
            ]
          },
          "metadata": {},
          "execution_count": 69
        }
      ]
    },
    {
      "cell_type": "markdown",
      "metadata": {
        "id": "ggPkugRrPZ_5"
      },
      "source": [
        "#Fancy Indexing"
      ]
    },
    {
      "cell_type": "code",
      "metadata": {
        "colab": {
          "base_uri": "https://localhost:8080/"
        },
        "id": "yZy4Mr8hOHgX",
        "outputId": "3e6391c0-1e59-4090-aa2a-a92c9ea8dbcf"
      },
      "source": [
        "x=np.random.randint(100,size=(10,6))\n",
        "x"
      ],
      "execution_count": null,
      "outputs": [
        {
          "output_type": "execute_result",
          "data": {
            "text/plain": [
              "array([[25, 53, 79, 95, 42, 51],\n",
              "       [53,  4, 23, 84, 31, 72],\n",
              "       [40, 52, 59, 29, 53, 51],\n",
              "       [43, 51, 29,  3, 35, 51],\n",
              "       [56, 36, 26, 14, 17, 87],\n",
              "       [ 3,  0, 19, 22, 56, 15],\n",
              "       [19, 30, 72,  0, 60, 91],\n",
              "       [37, 21,  4, 56,  3, 24],\n",
              "       [65, 64, 71, 93, 91, 87],\n",
              "       [30, 36, 42, 35, 18, 23]])"
            ]
          },
          "metadata": {},
          "execution_count": 70
        }
      ]
    },
    {
      "cell_type": "code",
      "metadata": {
        "colab": {
          "base_uri": "https://localhost:8080/"
        },
        "id": "KasQFIwjPwEI",
        "outputId": "4f557b37-93a2-49fc-eb21-a3f7c799655b"
      },
      "source": [
        "x[:,[1,3,5]]"
      ],
      "execution_count": null,
      "outputs": [
        {
          "output_type": "execute_result",
          "data": {
            "text/plain": [
              "array([[53, 95, 51],\n",
              "       [ 4, 84, 72],\n",
              "       [52, 29, 51],\n",
              "       [51,  3, 51],\n",
              "       [36, 14, 87],\n",
              "       [ 0, 22, 15],\n",
              "       [30,  0, 91],\n",
              "       [21, 56, 24],\n",
              "       [64, 93, 87],\n",
              "       [36, 35, 23]])"
            ]
          },
          "metadata": {},
          "execution_count": 73
        }
      ]
    },
    {
      "cell_type": "code",
      "metadata": {
        "colab": {
          "base_uri": "https://localhost:8080/"
        },
        "id": "W-VLY0wrP20N",
        "outputId": "88e79fb6-e82a-4211-ac95-5e61308400db"
      },
      "source": [
        "x[:,[5,2,5]]"
      ],
      "execution_count": null,
      "outputs": [
        {
          "output_type": "execute_result",
          "data": {
            "text/plain": [
              "array([[51, 79, 51],\n",
              "       [72, 23, 72],\n",
              "       [51, 59, 51],\n",
              "       [51, 29, 51],\n",
              "       [87, 26, 87],\n",
              "       [15, 19, 15],\n",
              "       [91, 72, 91],\n",
              "       [24,  4, 24],\n",
              "       [87, 71, 87],\n",
              "       [23, 42, 23]])"
            ]
          },
          "metadata": {},
          "execution_count": 74
        }
      ]
    },
    {
      "cell_type": "code",
      "metadata": {
        "colab": {
          "base_uri": "https://localhost:8080/"
        },
        "id": "dgbtN8LEQKNN",
        "outputId": "81ef5053-2780-48bb-8bbd-8f8cbdc3d5ea"
      },
      "source": [
        "x[2:6,[5]]"
      ],
      "execution_count": null,
      "outputs": [
        {
          "output_type": "execute_result",
          "data": {
            "text/plain": [
              "array([[51],\n",
              "       [51],\n",
              "       [87],\n",
              "       [15]])"
            ]
          },
          "metadata": {},
          "execution_count": 75
        }
      ]
    },
    {
      "cell_type": "code",
      "metadata": {
        "colab": {
          "base_uri": "https://localhost:8080/"
        },
        "id": "PXglN6_EQX8U",
        "outputId": "e3e5b18a-0a2b-4e2e-aee2-7718554f9dbe"
      },
      "source": [
        "x[2:7,[4,5]]"
      ],
      "execution_count": null,
      "outputs": [
        {
          "output_type": "execute_result",
          "data": {
            "text/plain": [
              "array([[53, 51],\n",
              "       [35, 51],\n",
              "       [17, 87],\n",
              "       [56, 15],\n",
              "       [60, 91]])"
            ]
          },
          "metadata": {},
          "execution_count": 78
        }
      ]
    },
    {
      "cell_type": "code",
      "metadata": {
        "colab": {
          "base_uri": "https://localhost:8080/"
        },
        "id": "jrPfXc8KQ0WK",
        "outputId": "a7c69e9a-e44c-457d-c56f-65b478826e8a"
      },
      "source": [
        "x[2:5][:,3:]"
      ],
      "execution_count": null,
      "outputs": [
        {
          "output_type": "execute_result",
          "data": {
            "text/plain": [
              "array([[29, 53, 51],\n",
              "       [ 3, 35, 51],\n",
              "       [14, 17, 87]])"
            ]
          },
          "metadata": {},
          "execution_count": 79
        }
      ]
    },
    {
      "cell_type": "markdown",
      "metadata": {
        "id": "makL8mqPRSVs"
      },
      "source": [
        "#Reshaping of arrays"
      ]
    },
    {
      "cell_type": "code",
      "metadata": {
        "colab": {
          "base_uri": "https://localhost:8080/"
        },
        "id": "P3r8K3hNRFIy",
        "outputId": "06fae347-4349-4fcc-d63a-9f732c8a7d8e"
      },
      "source": [
        "n=np.arange(1,10)\n",
        "n.reshape(3,3)"
      ],
      "execution_count": null,
      "outputs": [
        {
          "output_type": "execute_result",
          "data": {
            "text/plain": [
              "array([1, 2, 3, 4, 5, 6, 7, 8, 9])"
            ]
          },
          "metadata": {},
          "execution_count": 83
        }
      ]
    },
    {
      "cell_type": "code",
      "metadata": {
        "colab": {
          "base_uri": "https://localhost:8080/"
        },
        "id": "5A7ICUu7RhM5",
        "outputId": "7c9e38a9-982d-4dd8-f518-f08f2853fad3"
      },
      "source": [
        "n=np.arange(1,10)\n",
        "n.reshape(3,3).base"
      ],
      "execution_count": null,
      "outputs": [
        {
          "output_type": "execute_result",
          "data": {
            "text/plain": [
              "array([1, 2, 3, 4, 5, 6, 7, 8, 9])"
            ]
          },
          "metadata": {},
          "execution_count": 84
        }
      ]
    },
    {
      "cell_type": "code",
      "metadata": {
        "colab": {
          "base_uri": "https://localhost:8080/"
        },
        "id": "DM-FawhzR28b",
        "outputId": "cc01488c-0aea-48b9-b8df-7d6414d58e3b"
      },
      "source": [
        "n=np.arange(1,10)\n",
        "n.reshape(-1)"
      ],
      "execution_count": null,
      "outputs": [
        {
          "output_type": "execute_result",
          "data": {
            "text/plain": [
              "array([1, 2, 3, 4, 5, 6, 7, 8, 9])"
            ]
          },
          "metadata": {},
          "execution_count": 85
        }
      ]
    },
    {
      "cell_type": "code",
      "metadata": {
        "id": "3NtMGoYsR9fK"
      },
      "source": [
        ""
      ],
      "execution_count": null,
      "outputs": []
    },
    {
      "cell_type": "code",
      "metadata": {
        "colab": {
          "base_uri": "https://localhost:8080/"
        },
        "id": "Hw2wBMBzdQBK",
        "outputId": "d5457976-ced9-4a28-c4c9-1f2b9df6fd48"
      },
      "source": [
        "m=np.array([[1,2],[2,3],[3,4]])\n",
        "m"
      ],
      "execution_count": null,
      "outputs": [
        {
          "output_type": "execute_result",
          "data": {
            "text/plain": [
              "array([[1, 2],\n",
              "       [2, 3],\n",
              "       [3, 4]])"
            ]
          },
          "metadata": {},
          "execution_count": 4
        }
      ]
    },
    {
      "cell_type": "code",
      "metadata": {
        "colab": {
          "base_uri": "https://localhost:8080/"
        },
        "id": "voNqE8u0ddVX",
        "outputId": "888acd11-5630-4ce5-ae3f-1ac37f5183de"
      },
      "source": [
        "np.rot90(m,2)"
      ],
      "execution_count": null,
      "outputs": [
        {
          "output_type": "execute_result",
          "data": {
            "text/plain": [
              "array([[4, 3],\n",
              "       [3, 2],\n",
              "       [2, 1]])"
            ]
          },
          "metadata": {},
          "execution_count": 6
        }
      ]
    },
    {
      "cell_type": "code",
      "metadata": {
        "colab": {
          "base_uri": "https://localhost:8080/"
        },
        "id": "HVQIqKWCd3O_",
        "outputId": "ffdfe73d-ac1c-44f1-d0e4-e9c70c3856ee"
      },
      "source": [
        "x=np.array([[1,2,3],[3,4,5],[3,5,7]])\n",
        "y=np.array([[2,2,2],[3,3,3],[5,5,5]])\n",
        "np.concatenate([x,y],axis=0)\n",
        "#column should be equal"
      ],
      "execution_count": null,
      "outputs": [
        {
          "output_type": "execute_result",
          "data": {
            "text/plain": [
              "array([[1, 2, 3],\n",
              "       [3, 4, 5],\n",
              "       [3, 5, 7],\n",
              "       [2, 2, 2],\n",
              "       [3, 3, 3],\n",
              "       [5, 5, 5]])"
            ]
          },
          "metadata": {},
          "execution_count": 10
        }
      ]
    },
    {
      "cell_type": "code",
      "metadata": {
        "colab": {
          "base_uri": "https://localhost:8080/"
        },
        "id": "wba6uiUHeVAy",
        "outputId": "5648ffcb-196e-4fa0-f7ee-56fa25b87b47"
      },
      "source": [
        "x=np.array([[1,2,3],[3,4,5],[3,5,7]])\n",
        "y=np.array([[2,2,2],[3,3,3],[5,5,5]])\n",
        "np.concatenate([x,y],axis=1)\n",
        "#row should be equal"
      ],
      "execution_count": null,
      "outputs": [
        {
          "output_type": "execute_result",
          "data": {
            "text/plain": [
              "array([[1, 2, 3, 2, 2, 2],\n",
              "       [3, 4, 5, 3, 3, 3],\n",
              "       [3, 5, 7, 5, 5, 5]])"
            ]
          },
          "metadata": {},
          "execution_count": 9
        }
      ]
    },
    {
      "cell_type": "code",
      "metadata": {
        "colab": {
          "base_uri": "https://localhost:8080/"
        },
        "id": "kPF4zuc7ebPn",
        "outputId": "5ae014f2-0c10-4662-93a9-35ed2ddeaff8"
      },
      "source": [
        "x=np.array([[1,2,3],[3,4,5],[3,5,7]])\n",
        "y=np.array([[2,2,2],[3,3,3],[5,5,5]])\n",
        "np.vstack([x,y])"
      ],
      "execution_count": null,
      "outputs": [
        {
          "output_type": "execute_result",
          "data": {
            "text/plain": [
              "array([[1, 2, 3],\n",
              "       [3, 4, 5],\n",
              "       [3, 5, 7],\n",
              "       [2, 2, 2],\n",
              "       [3, 3, 3],\n",
              "       [5, 5, 5]])"
            ]
          },
          "metadata": {},
          "execution_count": 11
        }
      ]
    },
    {
      "cell_type": "code",
      "metadata": {
        "colab": {
          "base_uri": "https://localhost:8080/"
        },
        "id": "icD5rEdifB2h",
        "outputId": "f3ff7451-1ff8-4eb2-c6cd-ae49b9fddda2"
      },
      "source": [
        "x=np.array([[1,2,3],[3,4,5],[3,5,7]])\n",
        "y=np.array([[2,2,2],[3,3,3],[5,5,5]])\n",
        "np.hstack([x,y])"
      ],
      "execution_count": null,
      "outputs": [
        {
          "output_type": "execute_result",
          "data": {
            "text/plain": [
              "array([[1, 2, 3, 2, 2, 2],\n",
              "       [3, 4, 5, 3, 3, 3],\n",
              "       [3, 5, 7, 5, 5, 5]])"
            ]
          },
          "metadata": {},
          "execution_count": 12
        }
      ]
    },
    {
      "cell_type": "markdown",
      "metadata": {
        "id": "FNM9S5iBfS1d"
      },
      "source": [
        "Splitting of array"
      ]
    },
    {
      "cell_type": "code",
      "metadata": {
        "colab": {
          "base_uri": "https://localhost:8080/"
        },
        "id": "o_k6OxHBfO4b",
        "outputId": "1779d1d9-34c8-4117-8a27-95bd4fd7aa7e"
      },
      "source": [
        "x= np.arange(1,10)\n",
        "np.split(x,3) #single value passed so in equal parts will be divided\n",
        "#division should be equal"
      ],
      "execution_count": null,
      "outputs": [
        {
          "output_type": "execute_result",
          "data": {
            "text/plain": [
              "[array([1, 2, 3]), array([4, 5, 6]), array([7, 8, 9])]"
            ]
          },
          "metadata": {},
          "execution_count": 14
        }
      ]
    },
    {
      "cell_type": "code",
      "metadata": {
        "colab": {
          "base_uri": "https://localhost:8080/"
        },
        "id": "IIzAMoqhfbgh",
        "outputId": "4f9032ec-2008-4f36-e5e3-93b18ebc67e1"
      },
      "source": [
        "x= np.arange(1,10)\n",
        "np.split(x,[3,5,6])\n",
        "#split [0:3],[3:5],[5:6],[6:]"
      ],
      "execution_count": null,
      "outputs": [
        {
          "output_type": "execute_result",
          "data": {
            "text/plain": [
              "[array([1, 2, 3]), array([4, 5]), array([6]), array([7, 8, 9])]"
            ]
          },
          "metadata": {},
          "execution_count": 16
        }
      ]
    },
    {
      "cell_type": "code",
      "metadata": {
        "colab": {
          "base_uri": "https://localhost:8080/"
        },
        "id": "LqEre8R-f2cP",
        "outputId": "01d6d237-6ad9-4f29-87bf-9c385c8d7156"
      },
      "source": [
        "x= np.arange(1,10).reshape([3,3])\n",
        "np.hsplit(x,3)"
      ],
      "execution_count": null,
      "outputs": [
        {
          "output_type": "execute_result",
          "data": {
            "text/plain": [
              "[array([[1],\n",
              "        [4],\n",
              "        [7]]), array([[2],\n",
              "        [5],\n",
              "        [8]]), array([[3],\n",
              "        [6],\n",
              "        [9]])]"
            ]
          },
          "metadata": {},
          "execution_count": 17
        }
      ]
    },
    {
      "cell_type": "code",
      "metadata": {
        "colab": {
          "base_uri": "https://localhost:8080/"
        },
        "id": "nxW2w6aMgy7N",
        "outputId": "47d26987-2558-4ee3-968f-a06f070a6857"
      },
      "source": [
        "x= np.arange(1,11).reshape([2,5])\n",
        "print(x)\n",
        "np.hsplit(x,[2,5])"
      ],
      "execution_count": null,
      "outputs": [
        {
          "output_type": "stream",
          "name": "stdout",
          "text": [
            "[[ 1  2  3  4  5]\n",
            " [ 6  7  8  9 10]]\n"
          ]
        },
        {
          "output_type": "execute_result",
          "data": {
            "text/plain": [
              "[array([[1, 2],\n",
              "        [6, 7]]), array([[ 3,  4,  5],\n",
              "        [ 8,  9, 10]]), array([], shape=(2, 0), dtype=int64)]"
            ]
          },
          "metadata": {},
          "execution_count": 18
        }
      ]
    },
    {
      "cell_type": "code",
      "metadata": {
        "colab": {
          "base_uri": "https://localhost:8080/"
        },
        "id": "5IpFCJ8ghPCJ",
        "outputId": "bb908c97-4411-445f-9e4e-e42527276932"
      },
      "source": [
        "x= np.arange(1,11).reshape([5,2])\n",
        "print(x)\n",
        "np.vsplit(x,[3]) #here value is passed in square bracket so splitting will be from [0:3],[3:]"
      ],
      "execution_count": null,
      "outputs": [
        {
          "output_type": "stream",
          "name": "stdout",
          "text": [
            "[[ 1  2]\n",
            " [ 3  4]\n",
            " [ 5  6]\n",
            " [ 7  8]\n",
            " [ 9 10]]\n"
          ]
        },
        {
          "output_type": "execute_result",
          "data": {
            "text/plain": [
              "[array([[1, 2],\n",
              "        [3, 4],\n",
              "        [5, 6]]), array([[ 7,  8],\n",
              "        [ 9, 10]])]"
            ]
          },
          "metadata": {},
          "execution_count": 19
        }
      ]
    },
    {
      "cell_type": "code",
      "metadata": {
        "colab": {
          "base_uri": "https://localhost:8080/"
        },
        "id": "hC6TPIU6hxLj",
        "outputId": "c20ad28b-dc0f-4bc2-b74f-fa4df88012f5"
      },
      "source": [
        "x=np.array([1,2,3,4])\n",
        "x.dtype"
      ],
      "execution_count": null,
      "outputs": [
        {
          "output_type": "execute_result",
          "data": {
            "text/plain": [
              "dtype('int64')"
            ]
          },
          "metadata": {},
          "execution_count": 23
        }
      ]
    },
    {
      "cell_type": "code",
      "metadata": {
        "colab": {
          "base_uri": "https://localhost:8080/"
        },
        "id": "sLh12x0IjaPc",
        "outputId": "417bf856-2e71-4c7c-b58e-f77ce2ff70f7"
      },
      "source": [
        "x=np.array([99999999999999999999999,1,2,3,4])\n",
        "x.dtype"
      ],
      "execution_count": null,
      "outputs": [
        {
          "output_type": "execute_result",
          "data": {
            "text/plain": [
              "dtype('O')"
            ]
          },
          "metadata": {},
          "execution_count": 24
        }
      ]
    },
    {
      "cell_type": "code",
      "metadata": {
        "colab": {
          "base_uri": "https://localhost:8080/"
        },
        "id": "GigdLMPIjqOS",
        "outputId": "1a53308d-b30d-47c3-9410-a51871e14d6c"
      },
      "source": [
        "x=np.array([1,2,3,4])\n",
        "y=x.astype(np.float64)\n",
        "y"
      ],
      "execution_count": null,
      "outputs": [
        {
          "output_type": "execute_result",
          "data": {
            "text/plain": [
              "array([1., 2., 3., 4.])"
            ]
          },
          "metadata": {},
          "execution_count": 26
        }
      ]
    },
    {
      "cell_type": "code",
      "metadata": {
        "colab": {
          "base_uri": "https://localhost:8080/"
        },
        "id": "ZyuIlHmbj76B",
        "outputId": "76001456-f5c4-4078-8551-46c04bfb44cb"
      },
      "source": [
        "x=np.array([1.2,3.4])\n",
        "y=x.astype(np.float32)\n",
        "y"
      ],
      "execution_count": null,
      "outputs": [
        {
          "output_type": "execute_result",
          "data": {
            "text/plain": [
              "array([1.2, 3.4], dtype=float32)"
            ]
          },
          "metadata": {},
          "execution_count": 27
        }
      ]
    },
    {
      "cell_type": "markdown",
      "metadata": {
        "id": "J8JKUMfpkR2p"
      },
      "source": [
        "Absolute Value"
      ]
    },
    {
      "cell_type": "code",
      "metadata": {
        "id": "2Ftw2y5PkIkr",
        "colab": {
          "base_uri": "https://localhost:8080/"
        },
        "outputId": "89bf19db-61b9-4565-9ec3-edcf1e3c1293"
      },
      "source": [
        "x=np.array([-2,-1,0,1,2])\n",
        "np.absolute(x)"
      ],
      "execution_count": 2,
      "outputs": [
        {
          "output_type": "execute_result",
          "data": {
            "text/plain": [
              "array([2, 1, 0, 1, 2])"
            ]
          },
          "metadata": {},
          "execution_count": 2
        }
      ]
    },
    {
      "cell_type": "code",
      "metadata": {
        "colab": {
          "base_uri": "https://localhost:8080/"
        },
        "id": "mJCL8mOiI3rh",
        "outputId": "ee30bd09-8db1-40fd-c542-b5a82a490a51"
      },
      "source": [
        "x=[1,2,3]\n",
        "np.exp(x)"
      ],
      "execution_count": 3,
      "outputs": [
        {
          "output_type": "execute_result",
          "data": {
            "text/plain": [
              "array([ 2.71828183,  7.3890561 , 20.08553692])"
            ]
          },
          "metadata": {},
          "execution_count": 3
        }
      ]
    },
    {
      "cell_type": "markdown",
      "metadata": {
        "id": "uncmxdoCOu2h"
      },
      "source": [
        "*Logarithmic for normalisation"
      ]
    },
    {
      "cell_type": "code",
      "metadata": {
        "colab": {
          "base_uri": "https://localhost:8080/"
        },
        "id": "DyA986LBOg0N",
        "outputId": "9b9ae957-87e0-482a-c19c-9bed850731d8"
      },
      "source": [
        "x=[1,2,3]\n",
        "np.exp2(x)"
      ],
      "execution_count": 4,
      "outputs": [
        {
          "output_type": "execute_result",
          "data": {
            "text/plain": [
              "array([2., 4., 8.])"
            ]
          },
          "metadata": {},
          "execution_count": 4
        }
      ]
    },
    {
      "cell_type": "code",
      "metadata": {
        "colab": {
          "base_uri": "https://localhost:8080/"
        },
        "id": "TJ3-pjInPUAv",
        "outputId": "d84d344a-1519-4be1-8fdd-4127e08c15a1"
      },
      "source": [
        "x=[1,2,3]\n",
        "np.log(x)"
      ],
      "execution_count": 5,
      "outputs": [
        {
          "output_type": "execute_result",
          "data": {
            "text/plain": [
              "array([0.        , 0.69314718, 1.09861229])"
            ]
          },
          "metadata": {},
          "execution_count": 5
        }
      ]
    },
    {
      "cell_type": "code",
      "metadata": {
        "colab": {
          "base_uri": "https://localhost:8080/"
        },
        "id": "SEgwOfPlPXYv",
        "outputId": "f5f1ebb7-d9c5-44b2-d85a-40498ac79390"
      },
      "source": [
        "x=[1,2,3]\n",
        "np.log2(x)"
      ],
      "execution_count": 6,
      "outputs": [
        {
          "output_type": "execute_result",
          "data": {
            "text/plain": [
              "array([0.       , 1.       , 1.5849625])"
            ]
          },
          "metadata": {},
          "execution_count": 6
        }
      ]
    },
    {
      "cell_type": "code",
      "metadata": {
        "colab": {
          "base_uri": "https://localhost:8080/"
        },
        "id": "jKf6gTwNPah0",
        "outputId": "feef5a8f-d7ec-4cbe-9016-4053db268608"
      },
      "source": [
        "x=np.arange(5)\n",
        "y=np.empty(5)\n",
        "np.multiply(x,10,out=y)"
      ],
      "execution_count": 8,
      "outputs": [
        {
          "output_type": "execute_result",
          "data": {
            "text/plain": [
              "array([ 0., 10., 20., 30., 40.])"
            ]
          },
          "metadata": {},
          "execution_count": 8
        }
      ]
    },
    {
      "cell_type": "code",
      "metadata": {
        "colab": {
          "base_uri": "https://localhost:8080/"
        },
        "id": "Pe8vdzIMPs-5",
        "outputId": "39dae083-bbb8-4a4d-ea42-dceba2d890b6"
      },
      "source": [
        "x=np.arange(1,11)\n",
        "np.add.reduce(x)\n",
        "#reduce add all element in single array"
      ],
      "execution_count": 9,
      "outputs": [
        {
          "output_type": "execute_result",
          "data": {
            "text/plain": [
              "55"
            ]
          },
          "metadata": {},
          "execution_count": 9
        }
      ]
    },
    {
      "cell_type": "code",
      "metadata": {
        "colab": {
          "base_uri": "https://localhost:8080/"
        },
        "id": "ZNJixTtGP-ja",
        "outputId": "2ae97145-6f97-464a-e793-82c785af9c6d"
      },
      "source": [
        "np.add.accumulate(x)\n",
        "#shows intermediate result"
      ],
      "execution_count": 10,
      "outputs": [
        {
          "output_type": "execute_result",
          "data": {
            "text/plain": [
              "array([ 1,  3,  6, 10, 15, 21, 28, 36, 45, 55])"
            ]
          },
          "metadata": {},
          "execution_count": 10
        }
      ]
    },
    {
      "cell_type": "code",
      "metadata": {
        "colab": {
          "base_uri": "https://localhost:8080/"
        },
        "id": "_1lDO9xoQTp4",
        "outputId": "66795922-895e-46af-8a34-eee94a79c02c"
      },
      "source": [
        "#sum of single array=sum or reduce\n",
        "np.sum(x)\n",
        "np.prod(x)"
      ],
      "execution_count": 12,
      "outputs": [
        {
          "output_type": "execute_result",
          "data": {
            "text/plain": [
              "3628800"
            ]
          },
          "metadata": {},
          "execution_count": 12
        }
      ]
    },
    {
      "cell_type": "markdown",
      "metadata": {
        "id": "5HTKdpYTTbRk"
      },
      "source": [
        "*mean=median (data symmetrical)"
      ]
    },
    {
      "cell_type": "code",
      "metadata": {
        "id": "7R2FMHnxRAOS"
      },
      "source": [
        "def myufunc(x):\n",
        "  return x**3"
      ],
      "execution_count": 13,
      "outputs": []
    },
    {
      "cell_type": "code",
      "metadata": {
        "colab": {
          "base_uri": "https://localhost:8080/"
        },
        "id": "wWvWGwBfVOjJ",
        "outputId": "e7116d60-14dd-45d8-e7e7-e1d0d1225d4d"
      },
      "source": [
        "x=np.arange(1,11)\n",
        "cube=np.frompyfunc(myufunc,1,1)\n",
        "cube(x)"
      ],
      "execution_count": 16,
      "outputs": [
        {
          "output_type": "execute_result",
          "data": {
            "text/plain": [
              "array([1, 8, 27, 64, 125, 216, 343, 512, 729, 1000], dtype=object)"
            ]
          },
          "metadata": {},
          "execution_count": 16
        }
      ]
    },
    {
      "cell_type": "code",
      "metadata": {
        "colab": {
          "base_uri": "https://localhost:8080/"
        },
        "id": "gTbgziXMVSva",
        "outputId": "a38d7df7-acc3-4fdc-bac9-bcc255d1f9a9"
      },
      "source": [
        "type(cube)"
      ],
      "execution_count": 17,
      "outputs": [
        {
          "output_type": "execute_result",
          "data": {
            "text/plain": [
              "numpy.ufunc"
            ]
          },
          "metadata": {},
          "execution_count": 17
        }
      ]
    },
    {
      "cell_type": "code",
      "metadata": {
        "colab": {
          "base_uri": "https://localhost:8080/"
        },
        "id": "xeob1wRGVi32",
        "outputId": "70ffd96d-f2ce-4fc3-b6b7-96813bdf99e9"
      },
      "source": [
        "type(myufunc)"
      ],
      "execution_count": 18,
      "outputs": [
        {
          "output_type": "execute_result",
          "data": {
            "text/plain": [
              "function"
            ]
          },
          "metadata": {},
          "execution_count": 18
        }
      ]
    },
    {
      "cell_type": "code",
      "metadata": {
        "id": "qoFX7T4VVmBj"
      },
      "source": [
        "#Write a universal function which return true if no is even otherwise return false\n",
        "def fun(x):\n",
        "  if x%2==0:\n",
        "    return True\n",
        "  else:\n",
        "    return False"
      ],
      "execution_count": 19,
      "outputs": []
    },
    {
      "cell_type": "code",
      "metadata": {
        "colab": {
          "base_uri": "https://localhost:8080/"
        },
        "id": "9GJkkOY7V50K",
        "outputId": "d37dec31-573d-467a-e28a-562374db8bc1"
      },
      "source": [
        "x=np.arange(1,12)\n",
        "evod=np.frompyfunc(fun,1,1)\n",
        "evod(x)"
      ],
      "execution_count": 23,
      "outputs": [
        {
          "output_type": "execute_result",
          "data": {
            "text/plain": [
              "array([False, True, False, True, False, True, False, True, False, True,\n",
              "       False], dtype=object)"
            ]
          },
          "metadata": {},
          "execution_count": 23
        }
      ]
    },
    {
      "cell_type": "code",
      "metadata": {
        "id": "jzB-4CzxWOIr"
      },
      "source": [
        "def abc(x,y):\n",
        "  return x*y"
      ],
      "execution_count": 24,
      "outputs": []
    },
    {
      "cell_type": "code",
      "metadata": {
        "colab": {
          "base_uri": "https://localhost:8080/"
        },
        "id": "JoPigTefWZB0",
        "outputId": "3b9e4397-7545-487f-ccf3-19dfd0741309"
      },
      "source": [
        "glo=np.frompyfunc(abc,2,1)\n",
        "glo(4,2)"
      ],
      "execution_count": 25,
      "outputs": [
        {
          "output_type": "execute_result",
          "data": {
            "text/plain": [
              "8"
            ]
          },
          "metadata": {},
          "execution_count": 25
        }
      ]
    },
    {
      "cell_type": "code",
      "metadata": {
        "colab": {
          "base_uri": "https://localhost:8080/"
        },
        "id": "odDRwUV8X7Bz",
        "outputId": "99b5e08e-9dbd-4718-87e5-4844f4aef378"
      },
      "source": [
        "data=np.random.randint(10,100,(10,4))\n",
        "data"
      ],
      "execution_count": 28,
      "outputs": [
        {
          "output_type": "execute_result",
          "data": {
            "text/plain": [
              "array([[41, 10, 47, 54],\n",
              "       [49, 13, 94, 76],\n",
              "       [65, 40, 41, 16],\n",
              "       [80, 38, 24, 21],\n",
              "       [42, 17, 37, 53],\n",
              "       [13, 67, 49, 39],\n",
              "       [52, 87, 19, 40],\n",
              "       [16, 51, 15, 42],\n",
              "       [23, 69, 66, 20],\n",
              "       [72, 55, 15, 15]])"
            ]
          },
          "metadata": {},
          "execution_count": 28
        }
      ]
    },
    {
      "cell_type": "code",
      "metadata": {
        "colab": {
          "base_uri": "https://localhost:8080/"
        },
        "id": "7RlCi5FGYPYP",
        "outputId": "0e384663-61a7-4889-beb1-e958cc5c0b9f"
      },
      "source": [
        "np.sort(data,axis=0)"
      ],
      "execution_count": 29,
      "outputs": [
        {
          "output_type": "execute_result",
          "data": {
            "text/plain": [
              "array([[13, 10, 15, 15],\n",
              "       [16, 13, 15, 16],\n",
              "       [23, 17, 19, 20],\n",
              "       [41, 38, 24, 21],\n",
              "       [42, 40, 37, 39],\n",
              "       [49, 51, 41, 40],\n",
              "       [52, 55, 47, 42],\n",
              "       [65, 67, 49, 53],\n",
              "       [72, 69, 66, 54],\n",
              "       [80, 87, 94, 76]])"
            ]
          },
          "metadata": {},
          "execution_count": 29
        }
      ]
    },
    {
      "cell_type": "code",
      "metadata": {
        "colab": {
          "base_uri": "https://localhost:8080/"
        },
        "id": "3FKWvBHHYgML",
        "outputId": "f6a120b6-f8d5-4e5b-f856-b0a7871127d5"
      },
      "source": [
        "np.sort(data[:,[1]],axis=0)"
      ],
      "execution_count": 30,
      "outputs": [
        {
          "output_type": "execute_result",
          "data": {
            "text/plain": [
              "array([[10],\n",
              "       [13],\n",
              "       [17],\n",
              "       [38],\n",
              "       [40],\n",
              "       [51],\n",
              "       [55],\n",
              "       [67],\n",
              "       [69],\n",
              "       [87]])"
            ]
          },
          "metadata": {},
          "execution_count": 30
        }
      ]
    },
    {
      "cell_type": "code",
      "metadata": {
        "colab": {
          "base_uri": "https://localhost:8080/"
        },
        "id": "NKURv7x1ZIye",
        "outputId": "cb440c06-d89e-44b9-d446-bcdc523c045f"
      },
      "source": [
        "x=np.array([1,2,3,5,6])\n",
        "f=[True,False,True,True,False]\n",
        "x[f]"
      ],
      "execution_count": 35,
      "outputs": [
        {
          "output_type": "execute_result",
          "data": {
            "text/plain": [
              "array([1, 3, 5])"
            ]
          },
          "metadata": {},
          "execution_count": 35
        }
      ]
    },
    {
      "cell_type": "code",
      "metadata": {
        "colab": {
          "base_uri": "https://localhost:8080/"
        },
        "id": "wDwcLZbSZbOe",
        "outputId": "746af452-6ec4-4b80-d904-b82545f2bba1"
      },
      "source": [
        "x=np.array([1,2,3,5,6])\n",
        "f=x%2==1\n",
        "x[f]"
      ],
      "execution_count": 36,
      "outputs": [
        {
          "output_type": "execute_result",
          "data": {
            "text/plain": [
              "array([1, 3, 5])"
            ]
          },
          "metadata": {},
          "execution_count": 36
        }
      ]
    },
    {
      "cell_type": "code",
      "metadata": {
        "id": "mjDKr_l0Zsf4"
      },
      "source": [
        ""
      ],
      "execution_count": null,
      "outputs": []
    }
  ]
}